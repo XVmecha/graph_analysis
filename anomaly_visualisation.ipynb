{
 "cells": [
  {
   "cell_type": "code",
   "execution_count": 5,
   "id": "e7762012bd84e75",
   "metadata": {
    "ExecuteTime": {
     "end_time": "2025-04-05T10:15:15.516318Z",
     "start_time": "2025-04-05T10:15:15.479404Z"
    }
   },
   "outputs": [],
   "source": [
    "import pandas as pd\n",
    "import matplotlib.pyplot as plt\n",
    "import matplotlib.dates as mdates\n",
    "import pandas as pd\n",
    "import datetime\n",
    "import numpy as np\n",
    "from tornado.httputil import format_timestamp\n",
    "\n",
    "\n",
    "#TODO check if there are no anomalies that pass midnight end date has differnt date to start date.\n",
    "def extract_attack_timeline(excel_file_path):\n",
    "    # Read the Excel file\n",
    "    df = pd.read_excel(excel_file_path)\n",
    "    df = df[:41]\n",
    "    # Convert start time column to datetime format\n",
    "    df.iloc[:, 1] = pd.to_datetime(df.iloc[:, 1])\n",
    "\n",
    "    # Create a nested list of attack times [start_time, end_time]\n",
    "    attack_timeline = [None] * len(df)  # Pre-allocate list with None values\n",
    "    for idx, row in df.iterrows():\n",
    "        start_time = row.iloc[1]  # Get the start time from the second column\n",
    "        end_time = row.iloc[2]    # Get the end time from the third column\n",
    "\n",
    "        # Check if end_time is valid\n",
    "        if pd.notna(end_time):\n",
    "            # If end_time is a datetime.time object, convert it to timestamp\n",
    "            if isinstance(end_time, datetime.time):\n",
    "                # Combine date from start_time with time from end_time\n",
    "                end_time = pd.Timestamp.combine(start_time.date(), end_time)\n",
    "            # If it's already a timestamp or datetime but needs date adjustment\n",
    "            elif hasattr(end_time, 'time') and not isinstance(end_time, pd.Timestamp):\n",
    "                # Convert to timestamp while preserving the time component\n",
    "                end_time = pd.Timestamp(\n",
    "                    year=start_time.year,\n",
    "                    month=start_time.month,\n",
    "                    day=start_time.day,\n",
    "                    hour=end_time.hour,\n",
    "                    minute=end_time.minute,\n",
    "                    second=end_time.second\n",
    "                )\n",
    "\n",
    "            attack_timeline[idx] = [start_time, end_time]\n",
    "\n",
    "    # Filter out None values for the final result while preserving indexes\n",
    "    attack_timeline = [(i, attack) for i, attack in enumerate(attack_timeline) if attack is not None]\n",
    "\n",
    "    return attack_timeline\n",
    "\n",
    "# Example usage\n",
    "if __name__ == \"__main__\":\n",
    "    file_path = \"/home/andreas/Thesis/datasets/SWAT/SWaT.A1 & A2_Dec 2015/List_of_attacks_Final_swat.xlsx\"\n",
    "    anomaly_times = extract_attack_timeline(file_path)\n",
    "\n",
    "    # Print the attack timeline with original indexes for verification"
   ]
  },
  {
   "cell_type": "code",
   "execution_count": 6,
   "id": "cc2f3e38c66e0a1a",
   "metadata": {
    "ExecuteTime": {
     "end_time": "2025-04-03T15:11:18.379905Z",
     "start_time": "2025-04-03T15:11:18.115215Z"
    }
   },
   "outputs": [],
   "source": [
    "#TODO check which graph which anomaly it goes wrong\n",
    "# for i in range(1,10):\n",
    "#     fp_timestamps = return_series(f'~/baselines/GDN/results/swat/fp_timesteps{i}.txt')\n",
    "#     fn_timestamps = return_series(f'~/baselines/GDN/results/swat/fn_timesteps{i}.txt')\n",
    "#     for index,[start,end] in anomaly_times:\n",
    "#         wrong_fns=fn_timestamps[(fn_timestamps <= start) & (fn_timestamps >= end)]\n",
    "#         wrong_fps=fp_timestamps[(fp_timestamps >= start) & (fp_timestamps <= end)]\n",
    "#         print(wrong_fns)\n",
    "#         print(f'fp {wrong_fps}')"
   ]
  },
  {
   "cell_type": "markdown",
   "id": "1ec264183d66f0a0",
   "metadata": {},
   "source": []
  },
  {
   "cell_type": "code",
   "execution_count": 17,
   "id": "86e0dfb3e49b190b",
   "metadata": {
    "ExecuteTime": {
     "end_time": "2025-04-03T14:42:00.612480Z",
     "start_time": "2025-04-03T14:42:00.605138Z"
    }
   },
   "outputs": [
    {
     "data": {
      "text/plain": [
       "Series([], dtype: datetime64[ns])"
      ]
     },
     "execution_count": 17,
     "metadata": {},
     "output_type": "execute_result"
    }
   ],
   "source": [
    "wrong_fps"
   ]
  },
  {
   "cell_type": "code",
   "execution_count": null,
   "id": "c8548cf5ebf17f2c",
   "metadata": {},
   "outputs": [],
   "source": [
    "\n",
    "\n",
    "def visualize_anomaly_timeline(full_timeline_start, full_timeline_end,\n",
    "                              anomaly_start, anomaly_end,\n",
    "                              anomaly_description,\n",
    "                              fp_timestamps=None, fn_timestamps=None):\n",
    "    \"\"\"\n",
    "    Create a timeline visualization highlighting a specific anomaly period.\n",
    "\n",
    "    Parameters:\n",
    "    -----------\n",
    "    full_timeline_start : datetime\n",
    "        Start time of the full visualization period\n",
    "    full_timeline_end : datetime\n",
    "        End time of the full visualization period\n",
    "    anomaly_start : datetime\n",
    "        Start time of the specific anomaly\n",
    "    anomaly_end : datetime\n",
    "        End time of the specific anomaly\n",
    "    anomaly_description : str\n",
    "        Description of the anomaly to use as title\n",
    "    fp_timestamps : list or pandas.Series, optional\n",
    "        Timestamps of false positives to plot\n",
    "    fn_timestamps : list or pandas.Series, optional\n",
    "        Timestamps of false negatives to plot\n",
    "\n",
    "    Returns:\n",
    "    --------\n",
    "    fig : matplotlib.figure.Figure\n",
    "        The figure object for the visualization\n",
    "    \"\"\"\n",
    "    # Create figure and axis\n",
    "    fig, ax = plt.subplots(figsize=(12, 5))\n",
    "\n",
    "    # Calculate timeline durations\n",
    "    full_duration = (full_timeline_end - full_timeline_start).total_seconds() / 60  # in minutes\n",
    "    anomaly_duration = (anomaly_end - anomaly_start).total_seconds() / 60  # in minutes\n",
    "\n",
    "    # Plot the full timeline as a gray bar\n",
    "    ax.axhspan(0.4, 0.6, xmin=0, xmax=1, color='lightgray', alpha=0.5, label='Timeline')\n",
    "\n",
    "    # Calculate the relative position of the anomaly in the full timeline\n",
    "    anomaly_start_rel = (anomaly_start - full_timeline_start).total_seconds() / (full_timeline_end - full_timeline_start).total_seconds()\n",
    "    anomaly_end_rel = (anomaly_end - full_timeline_start).total_seconds() / (full_timeline_end - full_timeline_start).total_seconds()\n",
    "\n",
    "    # Plot the anomaly period as a red bar\n",
    "    ax.axhspan(0.4, 0.6, xmin=anomaly_start_rel, xmax=anomaly_end_rel, color='red', alpha=0.7, label='Anomaly')\n",
    "\n",
    "    # Add start and end markers for the anomaly\n",
    "    ax.axvline(x=anomaly_start, color='red', linestyle='--', lw=1.5, label='Anomaly Start/End')\n",
    "    ax.axvline(x=anomaly_end, color='red', linestyle='--', lw=1.5)\n",
    "\n",
    "    # Plot false positive and false negative markers if provided\n",
    "    if fp_timestamps is not None:\n",
    "        for ts in pd.Series(fp_timestamps):\n",
    "            if full_timeline_start <= ts <= full_timeline_end:\n",
    "                ax.scatter(ts, 0.7, color='orange', s=50, marker='|', label='False Positive' if ts == fp_timestamps[0] else \"\")\n",
    "\n",
    "    if fn_timestamps is not None:\n",
    "        for ts in pd.Series(fn_timestamps):\n",
    "            if full_timeline_start <= ts <= full_timeline_end:\n",
    "                ax.scatter(ts, 0.3, color='blue', s=50, marker='|', label='False Negative' if ts == fn_timestamps[0] else \"\")\n",
    "\n",
    "    # Add labels for anomaly start and end times\n",
    "    ax.text(anomaly_start, 0.2, anomaly_start.strftime('%H:%M:%S'),\n",
    "            ha='center', va='bottom', color='red', fontweight='bold')\n",
    "    ax.text(anomaly_end, 0.2, anomaly_end.strftime('%H:%M:%S'),\n",
    "            ha='center', va='bottom', color='red', fontweight='bold')\n",
    "\n",
    "    # Add duration text\n",
    "    duration_text = f\"Duration: {anomaly_duration:.1f} min\"\n",
    "    ax.text((anomaly_start + (anomaly_end - anomaly_start)/2), 0.5,\n",
    "            duration_text, ha='center', va='center',\n",
    "            color='white', fontweight='bold')\n",
    "\n",
    "    # Format the x-axis to show time properly\n",
    "    ax.xaxis.set_major_formatter(mdates.DateFormatter('%H:%M:%S'))\n",
    "    ax.xaxis.set_major_locator(mdates.MinuteLocator(interval=max(1, int(full_duration/10))))\n",
    "\n",
    "    # Customize the plot\n",
    "    ax.set_xlim(full_timeline_start, full_timeline_end)\n",
    "    ax.set_ylim(0, 1)\n",
    "    ax.set_yticks([])  # Hide y-axis ticks\n",
    "    ax.set_title(f\"Anomaly: {anomaly_description}\", fontsize=14, pad=20)\n",
    "    ax.set_xlabel('Time', fontsize=12)\n",
    "\n",
    "    # Add legend\n",
    "    handles, labels = [], []\n",
    "    for handle, label in zip(*ax.get_legend_handles_labels()):\n",
    "        if label not in labels:\n",
    "            handles.append(handle)\n",
    "            labels.append(label)\n",
    "    ax.legend(handles, labels, loc='upper right')\n",
    "\n",
    "    # Add attack details box\n",
    "    attack_details = (\n",
    "        f\"Anomaly Details:\\n\"\n",
    "        f\"Start: {anomaly_start.strftime('%Y-%m-%d %H:%M:%S')}\\n\"\n",
    "        f\"End: {anomaly_end.strftime('%Y-%m-%d %H:%M:%S')}\\n\"\n",
    "        f\"Duration: {anomaly_duration:.1f} minutes\"\n",
    "    )\n",
    "    props = dict(boxstyle='round', facecolor='wheat', alpha=0.5)\n",
    "    ax.text(0.02, 0.98, attack_details, transform=ax.transAxes, fontsize=10,\n",
    "            verticalalignment='top', bbox=props)\n",
    "\n",
    "    plt.tight_layout()\n",
    "    return fig"
   ]
  },
  {
   "cell_type": "code",
   "execution_count": 6,
   "id": "d1a0b6e155d933ba",
   "metadata": {
    "ExecuteTime": {
     "end_time": "2025-04-03T14:39:41.882982Z",
     "start_time": "2025-04-03T14:39:41.843071Z"
    }
   },
   "outputs": [
    {
     "ename": "NameError",
     "evalue": "name 'return_series' is not defined",
     "output_type": "error",
     "traceback": [
      "\u001b[31m---------------------------------------------------------------------------\u001b[39m",
      "\u001b[31mNameError\u001b[39m                                 Traceback (most recent call last)",
      "\u001b[36mCell\u001b[39m\u001b[36m \u001b[39m\u001b[32mIn[6]\u001b[39m\u001b[32m, line 14\u001b[39m\n\u001b[32m     11\u001b[39m         plt.show()\n\u001b[32m     12\u001b[39m         plt.savefig(\u001b[33mf\u001b[39m\u001b[33m\"\u001b[39m\u001b[33manomaly_timeline_graph\u001b[39m\u001b[38;5;132;01m{\u001b[39;00mgraph_id\u001b[38;5;132;01m}\u001b[39;00m\u001b[33m_attack\u001b[39m\u001b[38;5;132;01m{\u001b[39;00mattack_id\u001b[38;5;132;01m}\u001b[39;00m\u001b[33m\"\u001b[39m)\n\u001b[32m---> \u001b[39m\u001b[32m14\u001b[39m \u001b[43mvisualise_for_one_graph\u001b[49m\u001b[43m(\u001b[49m\u001b[43manomaly_times\u001b[49m\u001b[43m,\u001b[49m\u001b[32;43m1\u001b[39;49m\u001b[43m)\u001b[49m\n",
      "\u001b[36mCell\u001b[39m\u001b[36m \u001b[39m\u001b[32mIn[6]\u001b[39m\u001b[32m, line 2\u001b[39m, in \u001b[36mvisualise_for_one_graph\u001b[39m\u001b[34m(anomaly_timestamps, graph_id)\u001b[39m\n\u001b[32m      1\u001b[39m \u001b[38;5;28;01mdef\u001b[39;00m \u001b[34mvisualise_for_one_graph\u001b[39m(anomaly_timestamps,graph_id):\n\u001b[32m----> \u001b[39m\u001b[32m2\u001b[39m     fp_times = \u001b[43mreturn_series\u001b[49m(\u001b[33mf\u001b[39m\u001b[33m'\u001b[39m\u001b[33m~/baselines/GDN/results/swat/fp_timesteps\u001b[39m\u001b[38;5;132;01m{\u001b[39;00mgraph_id\u001b[38;5;132;01m}\u001b[39;00m\u001b[33m.txt\u001b[39m\u001b[33m'\u001b[39m)\n\u001b[32m      3\u001b[39m     fn_times = return_series(\u001b[33mf\u001b[39m\u001b[33m'\u001b[39m\u001b[33m~/baselines/GDN/results/swat/fn_timesteps\u001b[39m\u001b[38;5;132;01m{\u001b[39;00mgraph_id\u001b[38;5;132;01m}\u001b[39;00m\u001b[33m.txt\u001b[39m\u001b[33m'\u001b[39m)\n\u001b[32m      4\u001b[39m     \u001b[38;5;28;01mfor\u001b[39;00m attack \u001b[38;5;129;01min\u001b[39;00m anomaly_timestamps:\n",
      "\u001b[31mNameError\u001b[39m: name 'return_series' is not defined"
     ]
    }
   ],
   "source": [
    "def visualise_for_one_graph(anomaly_timestamps,graph_id):\n",
    "    fp_times = return_series(f'~/baselines/GDN/results/swat/fp_timesteps{graph_id}.txt')\n",
    "    fn_times = return_series(f'~/baselines/GDN/results/swat/fn_timesteps{graph_id}.txt')\n",
    "    for attack in anomaly_timestamps:\n",
    "        attack_id = attack[0]\n",
    "        attack_start = attack[1][0]\n",
    "        attack_end = attack[1][1]\n",
    "        vis_start_time = attack_start - datetime.timedelta(minutes=10)\n",
    "        vis_end_time = attack_end + datetime.timedelta(minutes=10)\n",
    "        superfig = visualize_anomaly_timeline(vis_start_time,vis_end_time,attack_start,attack_end,f'attack {attack_id}',fp_times,fn_times)\n",
    "        plt.show()\n",
    "        plt.savefig(f\"anomaly_timeline_graph{graph_id}_attack{attack_id}\")\n",
    "\n",
    "visualise_for_one_graph(anomaly_times,1)"
   ]
  },
  {
   "cell_type": "code",
   "execution_count": 7,
   "id": "effd064cb7275af",
   "metadata": {
    "ExecuteTime": {
     "end_time": "2025-04-03T14:39:42.076575Z",
     "start_time": "2025-04-03T14:39:42.069914Z"
    }
   },
   "outputs": [],
   "source": [
    "#utils\n",
    "def time_plus(time, timedelta):\n",
    "    start = datetime.datetime(\n",
    "        2000, 1, 1,\n",
    "        hour=time.hour, minute=time.minute, second=time.second)\n",
    "    end = start + timedelta\n",
    "    return end.time()\n",
    "\n",
    "def return_timestamps(file_path):\n",
    "    # Read file directly with pandas, without using the first column as index\n",
    "    df = pd.read_csv(file_path, header=None, names=['id', 'datetime'])\n",
    "\n",
    "    # Convert to datetime\n",
    "    df['datetime'] = pd.to_datetime(df['datetime'], format='%d/%m/%Y %H:%M:%S')\n",
    "\n",
    "    # Create Series with default index (0, 1, 2, ...)\n",
    "    return pd.Series(df['datetime'].values)\n",
    "\n",
    "\n",
    "def return_ids(file_path):\n",
    "    # Read file directly with pandas, without using the first column as index\n",
    "    df = pd.read_csv(file_path, header=None, names=['id', 'datetime'])\n",
    "    # Create Series with default index (0, 1, 2, ...)\n",
    "    return pd.Series(df['id'].values)"
   ]
  },
  {
   "cell_type": "code",
   "execution_count": 8,
   "id": "523db70da4c73ac5",
   "metadata": {
    "ExecuteTime": {
     "end_time": "2025-04-03T14:39:42.170239Z",
     "start_time": "2025-04-03T14:39:42.150380Z"
    }
   },
   "outputs": [],
   "source": [
    "fn_ids = return_ids('~/Thesis/baselines/GDN/results/swat/fn_timesteps1.txt')\n"
   ]
  },
  {
   "cell_type": "code",
   "execution_count": 9,
   "id": "e1eba130c8e1abc1",
   "metadata": {
    "ExecuteTime": {
     "end_time": "2025-04-03T14:39:42.363727Z",
     "start_time": "2025-04-03T14:39:42.356158Z"
    }
   },
   "outputs": [
    {
     "data": {
      "text/plain": [
       "0         170\n",
       "1         171\n",
       "2         172\n",
       "3         173\n",
       "4         174\n",
       "        ...  \n",
       "2140    44510\n",
       "2141    44511\n",
       "2142    44512\n",
       "2143    44513\n",
       "2144    44514\n",
       "Length: 2145, dtype: int64"
      ]
     },
     "execution_count": 9,
     "metadata": {},
     "output_type": "execute_result"
    }
   ],
   "source": [
    "fn_ids"
   ]
  },
  {
   "cell_type": "code",
   "execution_count": 11,
   "id": "cbfae34612e30dd9",
   "metadata": {
    "ExecuteTime": {
     "end_time": "2025-04-03T14:39:42.538522Z",
     "start_time": "2025-04-03T14:39:42.535087Z"
    }
   },
   "outputs": [],
   "source": [
    "test_set = pd.read_csv('/home/andreas/Thesis/baselines/GDN/data/swat/test.csv')"
   ]
  },
  {
   "cell_type": "code",
   "execution_count": 19,
   "id": "ea1942da48cdc1ea",
   "metadata": {
    "ExecuteTime": {
     "end_time": "2025-04-03T14:39:42.812629Z",
     "start_time": "2025-04-03T14:39:42.809404Z"
    }
   },
   "outputs": [
    {
     "name": "stdout",
     "output_type": "stream",
     "text": [
      "number of false negatives in non-attack time 162\n",
      "number of false positives in attack time 14\n",
      "number of false negatives in non-attack time 171\n",
      "number of false positives in attack time 25\n",
      "number of false negatives in non-attack time 157\n",
      "number of false positives in attack time 30\n",
      "number of false negatives in non-attack time 161\n",
      "number of false positives in attack time 26\n",
      "number of false negatives in non-attack time 154\n",
      "number of false positives in attack time 19\n",
      "number of false negatives in non-attack time 163\n",
      "number of false positives in attack time 14\n",
      "number of false negatives in non-attack time 158\n",
      "number of false positives in attack time 23\n",
      "number of false negatives in non-attack time 164\n",
      "number of false positives in attack time 22\n",
      "number of false negatives in non-attack time 115\n",
      "number of false positives in attack time 35\n"
     ]
    }
   ],
   "source": [
    "for i in range(1,10):\n",
    "    fp_ids = return_ids(f'~/Thesis/baselines/GDN/results/swat/fp_timesteps{i}.txt')\n",
    "    fn_ids = return_ids(f'~/Thesis/baselines/GDN/results/swat/fn_timesteps{i}.txt')\n",
    "    fn_ids_table = test_set.iloc[fn_ids]\n",
    "    fp_ids_table = test_set.iloc[fp_ids]\n",
    "    print(f'number of false negatives in non-attack time {len(fn_ids_table[fn_ids_table['attack']==0])}')\n",
    "    print(f'number of false positives in attack time {len(fp_ids_table[fp_ids_table['attack']==1])}')"
   ]
  },
  {
   "cell_type": "code",
   "execution_count": null,
   "id": "ffaa8bea407b5665",
   "metadata": {
    "ExecuteTime": {
     "end_time": "2025-04-03T14:39:43.288074Z",
     "start_time": "2025-04-03T14:39:43.284597Z"
    }
   },
   "outputs": [],
   "source": []
  },
  {
   "cell_type": "code",
   "execution_count": null,
   "id": "6940245147d4e818",
   "metadata": {
    "ExecuteTime": {
     "end_time": "2025-04-03T14:39:43.518072Z",
     "start_time": "2025-04-03T14:39:43.514557Z"
    }
   },
   "outputs": [],
   "source": []
  },
  {
   "cell_type": "code",
   "execution_count": null,
   "id": "d6ce2a8e9ff26f1d",
   "metadata": {
    "ExecuteTime": {
     "end_time": "2025-04-03T14:39:43.753719Z",
     "start_time": "2025-04-03T14:39:43.749807Z"
    }
   },
   "outputs": [],
   "source": []
  },
  {
   "cell_type": "code",
   "execution_count": null,
   "id": "f9de8e60aad92897",
   "metadata": {
    "ExecuteTime": {
     "end_time": "2025-04-03T14:39:43.924051Z",
     "start_time": "2025-04-03T14:39:43.920765Z"
    }
   },
   "outputs": [],
   "source": []
  },
  {
   "cell_type": "code",
   "execution_count": null,
   "id": "349f183ab6c41dfd",
   "metadata": {
    "ExecuteTime": {
     "end_time": "2025-04-03T14:39:44.153878Z",
     "start_time": "2025-04-03T14:39:44.150680Z"
    }
   },
   "outputs": [],
   "source": []
  },
  {
   "cell_type": "code",
   "execution_count": null,
   "id": "8c9865d5bb225cfb",
   "metadata": {
    "ExecuteTime": {
     "end_time": "2025-04-03T14:39:44.435201Z",
     "start_time": "2025-04-03T14:39:44.432153Z"
    }
   },
   "outputs": [],
   "source": []
  },
  {
   "cell_type": "code",
   "execution_count": null,
   "id": "846035cbcb5c26c2",
   "metadata": {
    "ExecuteTime": {
     "end_time": "2025-04-03T14:39:44.674544Z",
     "start_time": "2025-04-03T14:39:44.671961Z"
    }
   },
   "outputs": [],
   "source": []
  },
  {
   "cell_type": "code",
   "execution_count": null,
   "id": "b131d9c633b3ebeb",
   "metadata": {},
   "outputs": [],
   "source": []
  }
 ],
 "metadata": {
  "kernelspec": {
   "display_name": "Python 3 (ipykernel)",
   "language": "python",
   "name": "python3"
  },
  "language_info": {
   "codemirror_mode": {
    "name": "ipython",
    "version": 3
   },
   "file_extension": ".py",
   "mimetype": "text/x-python",
   "name": "python",
   "nbconvert_exporter": "python",
   "pygments_lexer": "ipython3",
   "version": "3.12.4"
  }
 },
 "nbformat": 4,
 "nbformat_minor": 5
}
