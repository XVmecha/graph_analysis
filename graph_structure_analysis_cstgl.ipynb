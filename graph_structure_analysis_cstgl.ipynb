{
 "cells": [
  {
   "metadata": {
    "ExecuteTime": {
     "end_time": "2025-03-24T12:48:07.407263Z",
     "start_time": "2025-03-24T12:48:06.019642Z"
    }
   },
   "cell_type": "code",
   "source": [
    "import numpy as np\n",
    "import matplotlib.pyplot as plt\n",
    "import os\n",
    "import glob\n",
    "import torch"
   ],
   "id": "608aa97a6439df80",
   "outputs": [],
   "execution_count": 6
  },
  {
   "metadata": {
    "ExecuteTime": {
     "end_time": "2025-03-24T12:48:07.487706Z",
     "start_time": "2025-03-24T12:48:07.483211Z"
    }
   },
   "cell_type": "code",
   "source": [
    "#TODO\n",
    "#load in swat and wadi datasets and match matrix indexes with the column names\n",
    "#create classes\n",
    "#calculate homophily with sensor classes"
   ],
   "id": "8ddeabd93f39fca9",
   "outputs": [],
   "execution_count": 7
  },
  {
   "metadata": {
    "ExecuteTime": {
     "end_time": "2025-03-24T12:48:07.565064Z",
     "start_time": "2025-03-24T12:48:07.545132Z"
    }
   },
   "cell_type": "code",
   "source": [
    "wadi_sensors = [\n",
    "    \"Row\", \"Date\", \"Time\", \"1_AIT_001_PV\", \"1_AIT_002_PV\", \"1_AIT_003_PV\",\n",
    "    \"1_AIT_004_PV\", \"1_AIT_005_PV\", \"1_FIT_001_PV\", \"1_LS_001_AL\", \"1_LS_002_AL\",\n",
    "    \"1_LT_001_PV\", \"1_MV_001_STATUS\", \"1_MV_002_STATUS\", \"1_MV_003_STATUS\",\n",
    "    \"1_MV_004_STATUS\", \"1_P_001_STATUS\", \"1_P_002_STATUS\", \"1_P_003_STATUS\",\n",
    "    \"1_P_004_STATUS\", \"1_P_005_STATUS\", \"1_P_006_STATUS\", \"2_DPIT_001_PV\",\n",
    "    \"2_FIC_101_CO\", \"2_FIC_101_PV\", \"2_FIC_101_SP\", \"2_FIC_201_CO\", \"2_FIC_201_PV\",\n",
    "    \"2_FIC_201_SP\", \"2_FIC_301_CO\", \"2_FIC_301_PV\", \"2_FIC_301_SP\", \"2_FIC_401_CO\",\n",
    "    \"2_FIC_401_PV\", \"2_FIC_401_SP\", \"2_FIC_501_CO\", \"2_FIC_501_PV\", \"2_FIC_501_SP\",\n",
    "    \"2_FIC_601_CO\", \"2_FIC_601_PV\", \"2_FIC_601_SP\", \"2_FIT_001_PV\", \"2_FIT_002_PV\",\n",
    "    \"2_FIT_003_PV\", \"2_FQ_101_PV\", \"2_FQ_201_PV\", \"2_FQ_301_PV\", \"2_FQ_401_PV\",\n",
    "    \"2_FQ_501_PV\", \"2_FQ_601_PV\", \"2_LS_001_AL\", \"2_LS_002_AL\", \"2_LS_101_AH\",\n",
    "    \"2_LS_101_AL\", \"2_LS_201_AH\", \"2_LS_201_AL\", \"2_LS_301_AH\", \"2_LS_301_AL\",\n",
    "    \"2_LS_401_AH\", \"2_LS_401_AL\", \"2_LS_501_AH\", \"2_LS_501_AL\", \"2_LS_601_AH\",\n",
    "    \"2_LS_601_AL\", \"2_LT_001_PV\", \"2_LT_002_PV\", \"2_MCV_007_CO\", \"2_MCV_101_CO\",\n",
    "    \"2_MCV_201_CO\", \"2_MCV_301_CO\", \"2_MCV_401_CO\", \"2_MCV_501_CO\", \"2_MCV_601_CO\",\n",
    "    \"2_MV_001_STATUS\", \"2_MV_002_STATUS\", \"2_MV_003_STATUS\", \"2_MV_004_STATUS\",\n",
    "    \"2_MV_005_STATUS\", \"2_MV_006_STATUS\", \"2_MV_009_STATUS\", \"2_MV_101_STATUS\",\n",
    "    \"2_MV_201_STATUS\", \"2_MV_301_STATUS\", \"2_MV_401_STATUS\", \"2_MV_501_STATUS\",\n",
    "    \"2_MV_601_STATUS\", \"2_P_001_STATUS\", \"2_P_002_STATUS\", \"2_P_003_SPEED\",\n",
    "    \"2_P_003_STATUS\", \"2_P_004_SPEED\", \"2_P_004_STATUS\", \"2_PIC_003_CO\",\n",
    "    \"2_PIC_003_PV\", \"2_PIC_003_SP\", \"2_PIT_001_PV\", \"2_PIT_002_PV\", \"2_PIT_003_PV\",\n",
    "    \"2_SV_101_STATUS\", \"2_SV_201_STATUS\", \"2_SV_301_STATUS\", \"2_SV_401_STATUS\",\n",
    "    \"2_SV_501_STATUS\", \"2_SV_601_STATUS\", \"2A_AIT_001_PV\", \"2A_AIT_002_PV\",\n",
    "    \"2A_AIT_003_PV\", \"2A_AIT_004_PV\", \"2B_AIT_001_PV\", \"2B_AIT_002_PV\",\n",
    "    \"2B_AIT_003_PV\", \"2B_AIT_004_PV\", \"3_AIT_001_PV\", \"3_AIT_002_PV\",\n",
    "    \"3_AIT_003_PV\", \"3_AIT_004_PV\", \"3_AIT_005_PV\", \"3_FIT_001_PV\", \"3_LS_001_AL\",\n",
    "    \"3_LT_001_PV\", \"3_MV_001_STATUS\", \"3_MV_002_STATUS\", \"3_MV_003_STATUS\",\n",
    "    \"3_P_001_STATUS\", \"3_P_002_STATUS\", \"3_P_003_STATUS\", \"3_P_004_STATUS\",\n",
    "    \"LEAK_DIFF_PRESSURE\", \"PLANT_START_STOP_LOG\", \"TOTAL_CONS_REQUIRED_FLOW\"\n",
    "]\n",
    "swat_sensors = [\n",
    "    \"Timestamp\", \"FIT101\", \"LIT101\", \"MV101\", \"P101\", \"P102\", \"AIT201\", \"AIT202\",\n",
    "    \"AIT203\", \"FIT201\", \"MV201\", \"P201\", \"P202\", \"P203\", \"P204\", \"P205\", \"P206\",\n",
    "    \"DPIT301\", \"FIT301\", \"LIT301\", \"MV301\", \"MV302\", \"MV303\", \"MV304\", \"P301\",\n",
    "    \"P302\", \"AIT401\", \"AIT402\", \"FIT401\", \"LIT401\", \"P401\", \"P402\", \"P403\", \"P404\",\n",
    "    \"UV401\", \"AIT501\", \"AIT502\", \"AIT503\", \"AIT504\", \"FIT501\", \"FIT502\", \"FIT503\",\n",
    "    \"FIT504\", \"P501\", \"P502\", \"PIT501\", \"PIT502\", \"PIT503\", \"FIT601\", \"P601\",\n",
    "    \"P602\", \"P603\", \"Normal/Attack\"\n",
    "]\n",
    "\n",
    "# Create a dictionary with index as key and [sensor_name, type, group] as value\n",
    "swat_sensors_dict = {\n",
    "    0: [\"FIT101\", \"Sensor\", 1],\n",
    "    1: [\"LIT101\", \"Sensor\", 1],\n",
    "    2: [\"MV101\", \"Actuator\", 1],\n",
    "    3: [\"P101\", \"Actuator\", 1],\n",
    "    4: [\"P102\", \"Actuator\", 1],\n",
    "    5: [\"AIT201\", \"Sensor\", 2],\n",
    "    6: [\"AIT202\", \"Sensor\", 2],\n",
    "    7: [\"AIT203\", \"Sensor\", 2],\n",
    "    8: [\"FIT201\", \"Sensor\", 2],\n",
    "    9: [\"MV201\", \"Actuator\", 2],\n",
    "    10: [\"P201\", \"Actuator\", 2],\n",
    "    11: [\"P202\", \"Actuator\", 2],\n",
    "    12: [\"P203\", \"Actuator\", 2],\n",
    "    13: [\"P204\", \"Actuator\", 2],\n",
    "    14: [\"P205\", \"Actuator\", 2],\n",
    "    15: [\"P206\", \"Actuator\", 2],\n",
    "    16: [\"DPIT301\", \"Sensor\", 3],\n",
    "    17: [\"FIT301\", \"Sensor\", 3],\n",
    "    18: [\"LIT301\", \"Sensor\", 3],\n",
    "    19: [\"MV301\", \"Actuator\", 3],\n",
    "    20: [\"MV302\", \"Actuator\", 3],\n",
    "    21: [\"MV303\", \"Actuator\", 3],\n",
    "    22: [\"MV304\", \"Actuator\", 3],\n",
    "    23: [\"P301\", \"Actuator\", 3],\n",
    "    24: [\"P302\", \"Actuator\", 3],\n",
    "    25: [\"AIT401\", \"Sensor\", 4],\n",
    "    26: [\"AIT402\", \"Sensor\", 4],\n",
    "    27: [\"FIT401\", \"Sensor\", 4],\n",
    "    28: [\"LIT401\", \"Actuator\", 4],  # Note: LIT401 is listed as an Actuator in your data, though LIT typically indicates a sensor\n",
    "    29: [\"P401\", \"Actuator\", 4],\n",
    "    30: [\"P402\", \"Actuator\", 4],\n",
    "    31: [\"P403\", \"Actuator\", 4],\n",
    "    32: [\"P404\", \"Actuator\", 4],\n",
    "    33: [\"UV401\", \"Actuator\", 4],\n",
    "    34: [\"AIT501\", \"Sensor\", 5],\n",
    "    35: [\"AIT502\", \"Sensor\", 5],\n",
    "    36: [\"AIT503\", \"Sensor\", 5],\n",
    "    37: [\"AIT504\", \"Sensor\", 5],\n",
    "    38: [\"FIT501\", \"Sensor\", 5],\n",
    "    39: [\"FIT502\", \"Sensor\", 5],\n",
    "    40: [\"FIT503\", \"Sensor\", 5],\n",
    "    41: [\"FIT504\", \"Sensor\", 5],\n",
    "    42: [\"P501\", \"Actuator\", 5],\n",
    "    43: [\"P502\", \"Actuator\", 5],\n",
    "    44: [\"PIT501\", \"Sensor\", 5],\n",
    "    45: [\"PIT502\", \"Sensor\", 5],\n",
    "    46: [\"PIT503\", \"Sensor\", 5],\n",
    "    47: [\"FIT601\", \"Sensor\", 6],\n",
    "    48: [\"P601\", \"Actuator\", 6],\n",
    "    49: [\"P602\", \"Actuator\", 6],\n",
    "    50: [\"P603\", \"Actuator\", 6]\n",
    "}\n",
    "\n",
    "wadi_sensors_dict = {\n",
    "    # Primary Grid (P1)\n",
    "    0: [\"1_AIT_001_PV\", \"Sensor\", \"P1\"],  # Water quality sensor\n",
    "    1: [\"1_AIT_002_PV\", \"Sensor\", \"P1\"],  # Water quality sensor\n",
    "    2: [\"1_AIT_003_PV\", \"Sensor\", \"P1\"],  # Water quality sensor\n",
    "    3: [\"1_AIT_004_PV\", \"Sensor\", \"P1\"],  # Water quality sensor\n",
    "    4: [\"1_AIT_005_PV\", \"Sensor\", \"P1\"],  # Water quality sensor\n",
    "    5: [\"1_FIT_001_PV\", \"Sensor\", \"P1\"],  # Flow meter\n",
    "    6: [\"1_LS_001_AL\", \"Sensor\", \"P1\"],   # Level switch alarm\n",
    "    7: [\"1_LS_002_AL\", \"Sensor\", \"P1\"],   # Level switch alarm\n",
    "    8: [\"1_LT_001_PV\", \"Sensor\", \"P1\"],   # Level transmitter\n",
    "    9: [\"1_MV_001_STATUS\", \"Actuator\", \"P1\"],  # Motorized valve\n",
    "    10: [\"1_MV_002_STATUS\", \"Actuator\", \"P1\"],  # Motorized valve\n",
    "    11: [\"1_MV_003_STATUS\", \"Actuator\", \"P1\"],  # Motorized valve\n",
    "    12: [\"1_MV_004_STATUS\", \"Actuator\", \"P1\"],  # Motorized valve\n",
    "    13: [\"1_P_001_STATUS\", \"Actuator\", \"P1\"],   # Pump\n",
    "    14: [\"1_P_002_STATUS\", \"Actuator\", \"P1\"],   # Pump\n",
    "    15: [\"1_P_003_STATUS\", \"Actuator\", \"P1\"],   # Pump\n",
    "    16: [\"1_P_004_STATUS\", \"Actuator\", \"P1\"],   # Pump\n",
    "    17: [\"1_P_005_STATUS\", \"Actuator\", \"P1\"],   # Pump\n",
    "    18: [\"1_P_006_STATUS\", \"Actuator\", \"P1\"],   # Pump\n",
    "\n",
    "    # Secondary Grid Part A (P2A - Elevated Reservoir)\n",
    "    19: [\"2_DPIT_001_PV\", \"Sensor\", \"P2A\"],  # Differential pressure indicator\n",
    "    20: [\"2_FIT_001_PV\", \"Sensor\", \"P2A\"],   # Flow meter\n",
    "    21: [\"2_FIT_002_PV\", \"Sensor\", \"P2A\"],   # Flow meter\n",
    "    22: [\"2_FIT_003_PV\", \"Sensor\", \"P2A\"],   # Flow meter\n",
    "    23: [\"2_LT_001_PV\", \"Sensor\", \"P2A\"],    # Level transmitter - elevated reservoir\n",
    "    24: [\"2_LT_002_PV\", \"Sensor\", \"P2A\"],    # Level transmitter - elevated reservoir\n",
    "    25: [\"2_LS_001_AL\", \"Sensor\", \"P2A\"],    # Level switch alarm (low) for elevated reservoir tanks\n",
    "    26: [\"2_LS_002_AL\", \"Sensor\", \"P2A\"],    # Level switch alarm (low) for elevated reservoir tanks\n",
    "    27: [\"2_MV_001_STATUS\", \"Actuator\", \"P2A\"],  # Motorized valve\n",
    "    28: [\"2_MV_002_STATUS\", \"Actuator\", \"P2A\"],  # Motorized valve\n",
    "    29: [\"2_MV_003_STATUS\", \"Actuator\", \"P2A\"],  # Motorized valve\n",
    "    30: [\"2_MV_004_STATUS\", \"Actuator\", \"P2A\"],  # Motorized valve\n",
    "    31: [\"2_MV_005_STATUS\", \"Actuator\", \"P2A\"],  # Motorized valve\n",
    "    32: [\"2_MV_006_STATUS\", \"Actuator\", \"P2A\"],  # Motorized valve\n",
    "    33: [\"2_MV_009_STATUS\", \"Actuator\", \"P2A\"],  # Motorized valve\n",
    "    34: [\"2_P_001_STATUS\", \"Actuator\", \"P2A\"],   # Pump\n",
    "    35: [\"2_P_002_STATUS\", \"Actuator\", \"P2A\"],   # Pump\n",
    "    36: [\"2_P_003_SPEED\", \"Actuator\", \"P2A\"],    # Speed control for pump 3\n",
    "    37: [\"2_P_003_STATUS\", \"Actuator\", \"P2A\"],   # Status of pump 3\n",
    "    38: [\"2_P_004_SPEED\", \"Actuator\", \"P2A\"],    # Speed control for pump 4\n",
    "    39: [\"2_P_004_STATUS\", \"Actuator\", \"P2A\"],   # Status of pump 4\n",
    "    40: [\"2_PIC_003_CO\", \"Actuator\", \"P2A\"],     # Control output for pressure controller 3\n",
    "    41: [\"2_PIC_003_PV\", \"Sensor\", \"P2A\"],       # Process value for pressure controller 3\n",
    "    42: [\"2_PIC_003_SP\", \"Sensor\", \"P2A\"],       # Setpoint for pressure controller 3\n",
    "    43: [\"2_PIT_001_PV\", \"Sensor\", \"P2A\"],       # Pressure indicator\n",
    "    44: [\"2_PIT_002_PV\", \"Sensor\", \"P2A\"],       # Pressure indicator\n",
    "    45: [\"2_PIT_003_PV\", \"Sensor\", \"P2A\"],       # Pressure indicator\n",
    "    46: [\"2A_AIT_001_PV\", \"Sensor\", \"P2A\"],      # Water quality sensor\n",
    "    47: [\"2A_AIT_002_PV\", \"Sensor\", \"P2A\"],      # Water quality sensor\n",
    "    48: [\"2A_AIT_003_PV\", \"Sensor\", \"P2A\"],      # Water quality sensor\n",
    "    49: [\"2A_AIT_004_PV\", \"Sensor\", \"P2A\"],      # Water quality sensor\n",
    "\n",
    "    # Secondary Grid Part B (P2B - Consumer Tanks)\n",
    "    50: [\"2_FIC_101_PV\", \"Sensor\", \"P2B\"],       # Flow indicator/controller process value\n",
    "    51: [\"2_FIC_101_CO\", \"Actuator\", \"P2B\"],     # Control output for flow controller 101\n",
    "    52: [\"2_FIC_101_SP\", \"Sensor\", \"P2B\"],       # Setpoint for flow controller 101\n",
    "    53: [\"2_FIC_201_PV\", \"Sensor\", \"P2B\"],       # Flow indicator/controller process value\n",
    "    54: [\"2_FIC_201_CO\", \"Actuator\", \"P2B\"],     # Control output for flow controller 201\n",
    "    55: [\"2_FIC_201_SP\", \"Sensor\", \"P2B\"],       # Setpoint for flow controller 201\n",
    "    56: [\"2_FIC_301_PV\", \"Sensor\", \"P2B\"],       # Flow indicator/controller process value\n",
    "    57: [\"2_FIC_301_CO\", \"Actuator\", \"P2B\"],     # Control output for flow controller 301\n",
    "    58: [\"2_FIC_301_SP\", \"Sensor\", \"P2B\"],       # Setpoint for flow controller 301\n",
    "    59: [\"2_FIC_401_PV\", \"Sensor\", \"P2B\"],       # Flow indicator/controller process value\n",
    "    60: [\"2_FIC_401_CO\", \"Actuator\", \"P2B\"],     # Control output for flow controller 401\n",
    "    61: [\"2_FIC_401_SP\", \"Sensor\", \"P2B\"],       # Setpoint for flow controller 401\n",
    "    62: [\"2_FIC_501_PV\", \"Sensor\", \"P2B\"],       # Flow indicator/controller process value\n",
    "    63: [\"2_FIC_501_CO\", \"Actuator\", \"P2B\"],     # Control output for flow controller 501\n",
    "    64: [\"2_FIC_501_SP\", \"Sensor\", \"P2B\"],       # Setpoint for flow controller 501\n",
    "    65: [\"2_FIC_601_PV\", \"Sensor\", \"P2B\"],       # Flow indicator/controller process value\n",
    "    66: [\"2_FIC_601_CO\", \"Actuator\", \"P2B\"],     # Control output for flow controller 601\n",
    "    67: [\"2_FIC_601_SP\", \"Sensor\", \"P2B\"],       # Setpoint for flow controller 601\n",
    "    68: [\"2_FQ_101_PV\", \"Sensor\", \"P2B\"],        # Flow totalizer\n",
    "    69: [\"2_FQ_201_PV\", \"Sensor\", \"P2B\"],        # Flow totalizer\n",
    "    70: [\"2_FQ_301_PV\", \"Sensor\", \"P2B\"],        # Flow totalizer\n",
    "    71: [\"2_FQ_401_PV\", \"Sensor\", \"P2B\"],        # Flow totalizer\n",
    "    72: [\"2_FQ_501_PV\", \"Sensor\", \"P2B\"],        # Flow totalizer\n",
    "    73: [\"2_FQ_601_PV\", \"Sensor\", \"P2B\"],        # Flow totalizer\n",
    "    74: [\"2_LS_101_AH\", \"Sensor\", \"P2B\"],        # Level switch high alarm\n",
    "    75: [\"2_LS_101_AL\", \"Sensor\", \"P2B\"],        # Level switch low alarm\n",
    "    76: [\"2_LS_201_AH\", \"Sensor\", \"P2B\"],        # Level switch high alarm\n",
    "    77: [\"2_LS_201_AL\", \"Sensor\", \"P2B\"],        # Level switch low alarm\n",
    "    78: [\"2_LS_301_AH\", \"Sensor\", \"P2B\"],        # Level switch high alarm\n",
    "    79: [\"2_LS_301_AL\", \"Sensor\", \"P2B\"],        # Level switch low alarm\n",
    "    80: [\"2_LS_401_AH\", \"Sensor\", \"P2B\"],        # Level switch high alarm\n",
    "    81: [\"2_LS_401_AL\", \"Sensor\", \"P2B\"],        # Level switch low alarm\n",
    "    82: [\"2_LS_501_AH\", \"Sensor\", \"P2B\"],        # Level switch high alarm\n",
    "    83: [\"2_LS_501_AL\", \"Sensor\", \"P2B\"],        # Level switch low alarm\n",
    "    84: [\"2_LS_601_AH\", \"Sensor\", \"P2B\"],        # Level switch high alarm\n",
    "    85: [\"2_LS_601_AL\", \"Sensor\", \"P2B\"],        # Level switch low alarm\n",
    "    86: [\"2_MCV_007_CO\", \"Actuator\", \"P2B\"],     # Control output for motorized consumer valve 7\n",
    "    87: [\"2_MCV_101_CO\", \"Actuator\", \"P2B\"],     # Control output for motorized consumer valve 101\n",
    "    88: [\"2_MCV_201_CO\", \"Actuator\", \"P2B\"],     # Control output for motorized consumer valve 201\n",
    "    89: [\"2_MCV_301_CO\", \"Actuator\", \"P2B\"],     # Control output for motorized consumer valve 301\n",
    "    90: [\"2_MCV_401_CO\", \"Actuator\", \"P2B\"],     # Control output for motorized consumer valve 401\n",
    "    91: [\"2_MCV_501_CO\", \"Actuator\", \"P2B\"],     # Control output for motorized consumer valve 501\n",
    "    92: [\"2_MCV_601_CO\", \"Actuator\", \"P2B\"],     # Control output for motorized consumer valve 601\n",
    "    93: [\"2_MV_101_STATUS\", \"Actuator\", \"P2B\"],  # Status of motorized valve 101 in consumer section\n",
    "    94: [\"2_MV_201_STATUS\", \"Actuator\", \"P2B\"],  # Status of motorized valve 201 in consumer section\n",
    "    95: [\"2_MV_301_STATUS\", \"Actuator\", \"P2B\"],  # Status of motorized valve 301 in consumer section\n",
    "    96: [\"2_MV_401_STATUS\", \"Actuator\", \"P2B\"],  # Status of motorized valve 401 in consumer section\n",
    "    97: [\"2_MV_501_STATUS\", \"Actuator\", \"P2B\"],  # Status of motorized valve 501 in consumer section\n",
    "    98: [\"2_MV_601_STATUS\", \"Actuator\", \"P2B\"],  # Status of motorized valve 601 in consumer section\n",
    "    99: [\"2_SV_101_STATUS\", \"Actuator\", \"P2B\"],  # Solenoid valve\n",
    "    100: [\"2_SV_201_STATUS\", \"Actuator\", \"P2B\"], # Solenoid valve\n",
    "    101: [\"2_SV_301_STATUS\", \"Actuator\", \"P2B\"], # Solenoid valve\n",
    "    102: [\"2_SV_401_STATUS\", \"Actuator\", \"P2B\"], # Solenoid valve\n",
    "    103: [\"2_SV_501_STATUS\", \"Actuator\", \"P2B\"], # Solenoid valve\n",
    "    104: [\"2_SV_601_STATUS\", \"Actuator\", \"P2B\"], # Solenoid valve\n",
    "    105: [\"2B_AIT_001_PV\", \"Sensor\", \"P2B\"],     # Water quality sensor\n",
    "    106: [\"2B_AIT_002_PV\", \"Sensor\", \"P2B\"],     # Water quality sensor\n",
    "    107: [\"2B_AIT_003_PV\", \"Sensor\", \"P2B\"],     # Water quality sensor\n",
    "    108: [\"2B_AIT_004_PV\", \"Sensor\", \"P2B\"],     # Water quality sensor\n",
    "\n",
    "    # Return Water Grid (P3)\n",
    "    109: [\"3_AIT_001_PV\", \"Sensor\", \"P3\"],       # Water quality sensor\n",
    "    110: [\"3_AIT_002_PV\", \"Sensor\", \"P3\"],       # Water quality sensor\n",
    "    111: [\"3_AIT_003_PV\", \"Sensor\", \"P3\"],       # Water quality sensor\n",
    "    112: [\"3_AIT_004_PV\", \"Sensor\", \"P3\"],       # Water quality sensor\n",
    "    113: [\"3_AIT_005_PV\", \"Sensor\", \"P3\"],       # Water quality sensor\n",
    "    114: [\"3_FIT_001_PV\", \"Sensor\", \"P3\"],       # Flow meter\n",
    "    115: [\"3_LS_001_AL\", \"Sensor\", \"P3\"],        # Level switch alarm\n",
    "    116: [\"3_LT_001_PV\", \"Sensor\", \"P3\"],        # Level transmitter\n",
    "    117: [\"3_MV_001_STATUS\", \"Actuator\", \"P3\"],  # Motorized valve\n",
    "    118: [\"3_MV_002_STATUS\", \"Actuator\", \"P3\"],  # Motorized valve\n",
    "    119: [\"3_MV_003_STATUS\", \"Actuator\", \"P3\"],  # Motorized valve\n",
    "    120: [\"3_P_001_STATUS\", \"Actuator\", \"P3\"],   # Pump\n",
    "    121: [\"3_P_002_STATUS\", \"Actuator\", \"P3\"],   # Pump\n",
    "    122: [\"3_P_003_STATUS\", \"Actuator\", \"P3\"],   # Pump\n",
    "    123: [\"3_P_004_STATUS\", \"Actuator\", \"P3\"],   # Pump\n",
    "\n",
    "    # System-wide parameters\n",
    "    124: [\"LEAK_DIFF_PRESSURE\", \"Sensor\", \"System\"],      # Differential pressure used to detect leaks\n",
    "    125: [\"PLANT_START_STOP_LOG\", \"Sensor\", \"System\"],    # System-wide log for plant startup/shutdown\n",
    "    126: [\"TOTAL_CONS_REQUIRED_FLOW\", \"Sensor\", \"System\"] # Total required consumer flow across all tanks\n",
    "}\n",
    "\n",
    "# Example usage\n",
    "# print(wadi_dict[5])  # Output: ['1_FIT_001_PV', 'Sensor', 'P1']\n",
    "# print(wadi_dict[51]) # Output: ['2_FIC_101_CO', 'Actuator', 'P2B']\n"
   ],
   "id": "5dfb6cabfd96c468",
   "outputs": [],
   "execution_count": 8
  },
  {
   "metadata": {
    "ExecuteTime": {
     "end_time": "2025-03-24T12:48:07.594821Z",
     "start_time": "2025-03-24T12:48:07.591696Z"
    }
   },
   "cell_type": "code",
   "source": [
    "node_num_swat=51\n",
    "node_num_wadi=128\n",
    "# swat_gdn_graph_path='/berentzenaej/baselines/GDN/results/swat_learned_graph*.txt'\n",
    "# wadi_gdn_graph_path='/berentzenaej/baselines/GDN/results/wadi_learned_graph*.txt'\n",
    "\n",
    "swat_cstgl_graph_path='/home/berentzenaej/baselines/CST-GL/save/topk_adjacency_swat.txt'\n",
    "wadi_cstgl_graph_path='/home/berentzenaej/baselines/CST-GL/save/topk_adjacency_wadi.txt'\n",
    "\n"
   ],
   "id": "264978c6963abc11",
   "outputs": [],
   "execution_count": 9
  },
  {
   "metadata": {
    "ExecuteTime": {
     "end_time": "2025-03-24T12:48:07.662820Z",
     "start_time": "2025-03-24T12:48:07.647211Z"
    }
   },
   "cell_type": "code",
   "source": [
    "#structural\n",
    "def build_tensor(dataset):\n",
    "    # Expand the tilde to the home directory\n",
    "    pattern = os.path.expanduser(f\"/home/berentzenaej/baselines/CST-GL/save/topk_adjacency_{dataset}*.txt\")\n",
    "\n",
    "    # Find all matching files\n",
    "    file_paths = sorted(glob.glob(pattern))\n",
    "    print(f\"Found {len(file_paths)} files matching the pattern\")\n",
    "\n",
    "    # Function to load a matrix from a text file\n",
    "    def load_matrix(file_path):\n",
    "        return np.loadtxt(file_path)\n",
    "\n",
    "    # Load all matrices into a tensor\n",
    "    matrices = []\n",
    "    for file_path in file_paths:\n",
    "        matrix = load_matrix(file_path)\n",
    "        matrices.append(matrix)\n",
    "\n",
    "    # Stack all matrices into a single tensor\n",
    "    if matrices:\n",
    "        learned_graph_tensor = np.stack(matrices)\n",
    "        print(f\"Created tensor with shape {learned_graph_tensor.shape}\")\n",
    "    else:\n",
    "        print(\"No matrices found\")\n",
    "    return learned_graph_tensor\n",
    "\n",
    "swat_tensor=build_tensor('swat')\n",
    "wadi_tensor=build_tensor('wadi')\n"
   ],
   "id": "ccd3440692a907c7",
   "outputs": [
    {
     "name": "stdout",
     "output_type": "stream",
     "text": [
      "Found 5 files matching the pattern\n",
      "Created tensor with shape (5, 51, 16)\n",
      "Found 8 files matching the pattern\n",
      "Created tensor with shape (8, 127, 31)\n"
     ]
    }
   ],
   "execution_count": 10
  },
  {
   "metadata": {
    "ExecuteTime": {
     "end_time": "2025-03-24T12:48:07.705954Z",
     "start_time": "2025-03-24T12:48:07.697902Z"
    }
   },
   "cell_type": "code",
   "source": [
    "def calculate_jaccard(graph_tensor):\n",
    "    num_graphs = graph_tensor.shape[0]\n",
    "    if num_graphs <= 1:\n",
    "        return 0.0\n",
    "\n",
    "    edge_sets = []\n",
    "    for i in range(num_graphs):\n",
    "        edges = set()\n",
    "        graph = graph_tensor[i]\n",
    "        for src in range(len(graph)):\n",
    "            for tgt in graph[src]:\n",
    "                if tgt >= 0:\n",
    "                    edges.add((src, int(tgt)))\n",
    "        edge_sets.append(edges)\n",
    "\n",
    "    total_jaccard = 0.0\n",
    "    pair_count = 0\n",
    "    for i in range(num_graphs):\n",
    "        for j in range(i+1, num_graphs):\n",
    "            intersection = len(edge_sets[i] & edge_sets[j])\n",
    "            union = len(edge_sets[i] | edge_sets[j])\n",
    "            jaccard = 1.0 if union == 0 else intersection / union\n",
    "            total_jaccard += jaccard\n",
    "            pair_count += 1\n",
    "\n",
    "    return total_jaccard / pair_count if pair_count > 0 else 0.0"
   ],
   "id": "8adca93293012051",
   "outputs": [],
   "execution_count": 11
  },
  {
   "metadata": {
    "ExecuteTime": {
     "end_time": "2025-03-24T12:48:07.768866Z",
     "start_time": "2025-03-24T12:48:07.752964Z"
    }
   },
   "cell_type": "code",
   "source": "calculate_jaccard(swat_tensor)",
   "id": "f1319e6650304e74",
   "outputs": [
    {
     "data": {
      "text/plain": [
       "0.26754183468569537"
      ]
     },
     "execution_count": 12,
     "metadata": {},
     "output_type": "execute_result"
    }
   ],
   "execution_count": 12
  },
  {
   "metadata": {
    "ExecuteTime": {
     "end_time": "2025-03-24T12:48:07.840352Z",
     "start_time": "2025-03-24T12:48:07.805980Z"
    }
   },
   "cell_type": "code",
   "source": "calculate_jaccard(wadi_tensor)",
   "id": "75358533258c9004",
   "outputs": [
    {
     "data": {
      "text/plain": [
       "0.26963898265706226"
      ]
     },
     "execution_count": 13,
     "metadata": {},
     "output_type": "execute_result"
    }
   ],
   "execution_count": 13
  },
  {
   "metadata": {
    "ExecuteTime": {
     "end_time": "2025-03-24T12:48:07.901717Z",
     "start_time": "2025-03-24T12:48:07.882188Z"
    }
   },
   "cell_type": "code",
   "source": [
    "def calculate_edge_occurrence(tensor):\n",
    "    \"\"\"\n",
    "    Calculate directed edge occurrence counts across matrices.\n",
    "\n",
    "    Args:\n",
    "        tensor: numpy array of shape (num_matrices, num_nodes, max_neighbors)\n",
    "\n",
    "    Returns:\n",
    "        dict: {(node_i, node_j): count} edge occurrence dictionary\n",
    "    \"\"\"\n",
    "    edge_counts = {}\n",
    "\n",
    "    # Iterate through each matrix\n",
    "    for m in range(tensor.shape[0]):\n",
    "        # Iterate through each node\n",
    "        for i in range(tensor.shape[1]):\n",
    "            # Iterate through each neighbor index\n",
    "            for j_idx in range(tensor.shape[2]):\n",
    "                j = tensor[m, i, j_idx]\n",
    "\n",
    "                # Create edge tuple and increment count\n",
    "                edge = (i, int(j))\n",
    "                edge_counts[edge] = edge_counts.get(edge, 0) + 1\n",
    "\n",
    "    return edge_counts\n",
    "wadi_occurence_dict=calculate_edge_occurrence(wadi_tensor)\n",
    "swat_occurence_dict=calculate_edge_occurrence(swat_tensor)\n"
   ],
   "id": "ffc10873fdcd9ae3",
   "outputs": [],
   "execution_count": 14
  },
  {
   "metadata": {
    "ExecuteTime": {
     "end_time": "2025-03-24T12:48:07.959531Z",
     "start_time": "2025-03-24T12:48:07.948768Z"
    }
   },
   "cell_type": "code",
   "source": [
    "swat_occurence_list_sorted=sorted(swat_occurence_dict.items(), key=lambda x: x[1], reverse=True)\n",
    "wadi_occurence_list_sorted=sorted(wadi_occurence_dict.items(), key=lambda x: x[1], reverse=True)"
   ],
   "id": "dca43927305eebc6",
   "outputs": [],
   "execution_count": 15
  },
  {
   "metadata": {},
   "cell_type": "markdown",
   "source": "### This is for identifying the most consistent edges",
   "id": "7693bae661c9d487"
  },
  {
   "metadata": {
    "ExecuteTime": {
     "end_time": "2025-03-24T12:48:08.028990Z",
     "start_time": "2025-03-24T12:48:08.025388Z"
    }
   },
   "cell_type": "code",
   "source": [
    "def top_different_pairs(occurence_list, node_info):\n",
    "    # Filter to keep only pairs with different nodes\n",
    "    different_pairs = {pair: count for pair, count in occurence_list if pair[0] != pair[1]}\n",
    "\n",
    "    # Sort by count (descending) and get top 5\n",
    "    top_pairs = sorted(different_pairs.items(), key=lambda x: x[1], reverse=True)[:5]\n",
    "\n",
    "    # Return result with node info\n",
    "    return [(pair, count, (node_info[pair[0]], node_info[pair[1]]))\n",
    "            for pair, count in top_pairs]"
   ],
   "id": "57051be3794e14c4",
   "outputs": [],
   "execution_count": 16
  },
  {
   "metadata": {
    "ExecuteTime": {
     "end_time": "2025-03-24T12:48:08.081960Z",
     "start_time": "2025-03-24T12:48:08.069330Z"
    }
   },
   "cell_type": "code",
   "source": [
    "wadi_top_pairs = top_different_pairs(wadi_occurence_list_sorted,wadi_sensors_dict)\n",
    "swat_top_pairs = top_different_pairs(swat_occurence_list_sorted,swat_sensors_dict)"
   ],
   "id": "65780d17fc2f2a43",
   "outputs": [],
   "execution_count": 17
  },
  {
   "metadata": {
    "ExecuteTime": {
     "end_time": "2025-03-24T12:48:08.121254Z",
     "start_time": "2025-03-24T12:48:08.116273Z"
    }
   },
   "cell_type": "code",
   "source": "swat_top_pairs",
   "id": "8eb3ed32d5fd8c22",
   "outputs": [
    {
     "data": {
      "text/plain": [
       "[((0, 20), 5, (['FIT101', 'Sensor', 1], ['MV302', 'Actuator', 3])),\n",
       " ((2, 20), 5, (['MV101', 'Actuator', 1], ['MV302', 'Actuator', 3])),\n",
       " ((3, 11), 5, (['P101', 'Actuator', 1], ['P202', 'Actuator', 2])),\n",
       " ((4, 20), 5, (['P102', 'Actuator', 1], ['MV302', 'Actuator', 3])),\n",
       " ((5, 20), 5, (['AIT201', 'Sensor', 2], ['MV302', 'Actuator', 3]))]"
      ]
     },
     "execution_count": 18,
     "metadata": {},
     "output_type": "execute_result"
    }
   ],
   "execution_count": 18
  },
  {
   "metadata": {
    "ExecuteTime": {
     "end_time": "2025-03-24T12:52:52.986578Z",
     "start_time": "2025-03-24T12:48:13.748532Z"
    }
   },
   "cell_type": "code",
   "source": [
    "def calculate_homophily(adj_tensor, sensor_dictionary, type=1):\n",
    "    \"\"\"\n",
    "    Calculate graph homophily using the formula:\n",
    "    h = (sum_{i in V} sum_{j in N(i)} 1(c_i = c_j)) / (2|E|)\n",
    "\n",
    "    Parameters:\n",
    "    -----------\n",
    "    adj_tensor : list of lists of lists\n",
    "        3D tensor where:\n",
    "        - First dimension: different graphs\n",
    "        - Second dimension: nodes in each graph\n",
    "        - Third dimension: connections for each node (padded with -1)\n",
    "    node_attributes : dict\n",
    "        Dictionary mapping node indices to their attributes.\n",
    "    type : int\n",
    "        type of homophily calculation (based on sensor/actuator or group)\n",
    "        (1 for Type, 2 for Group).\n",
    "\n",
    "    Returns:\n",
    "    --------\n",
    "    list\n",
    "        List of homophily values for each graph in the tensor.\n",
    "    \"\"\"\n",
    "    # List to store homophily values for each graph\n",
    "    homophily_values = []\n",
    "\n",
    "    # Process each graph in the tensor\n",
    "    for graph_idx, graph in enumerate(adj_tensor):\n",
    "        # Count total edges and same-attribute edges for this graph\n",
    "        total_edges = 0\n",
    "        same_attribute_edges = 0\n",
    "\n",
    "        # Iterate through each node and its neighbors\n",
    "        for node_i, neighbors in enumerate(graph):\n",
    "            # Get attribute for current node\n",
    "            attr_i = sensor_dictionary[node_i][type]\n",
    "\n",
    "            # Iterate through all neighbors of node_i\n",
    "            for node_j in neighbors:\n",
    "                # Skip padding values (-1)\n",
    "                if node_j == -1:\n",
    "                    continue\n",
    "\n",
    "                # Get attribute for neighbor node\n",
    "                attr_j = sensor_dictionary[node_j][type]\n",
    "\n",
    "                # Increment total edges\n",
    "                total_edges += 1\n",
    "\n",
    "                # Check if attributes match\n",
    "                if attr_i == attr_j:\n",
    "                    same_attribute_edges += 1\n",
    "\n",
    "        # Calculate homophily for this graph\n",
    "        graph_homophily = same_attribute_edges / total_edges if total_edges > 0 else 0\n",
    "        homophily_values.append(graph_homophily)\n",
    "\n",
    "    return homophily_values\n",
    "print(f'swat sensor/actuator {calculate_homophily(swat_tensor, swat_sensors_dict,1)}')\n"
   ],
   "id": "d8a11b81b73a417b",
   "outputs": [
    {
     "ename": "KeyboardInterrupt",
     "evalue": "",
     "output_type": "error",
     "traceback": [
      "\u001B[31m---------------------------------------------------------------------------\u001B[39m",
      "\u001B[31mKeyboardInterrupt\u001B[39m                         Traceback (most recent call last)",
      "\u001B[36mCell\u001B[39m\u001B[36m \u001B[39m\u001B[32mIn[22]\u001B[39m\u001B[32m, line 59\u001B[39m\n\u001B[32m     56\u001B[39m         homophily_values.append(graph_homophily)\n\u001B[32m     58\u001B[39m     \u001B[38;5;28;01mreturn\u001B[39;00m homophily_values\n\u001B[32m---> \u001B[39m\u001B[32m59\u001B[39m \u001B[38;5;28mprint\u001B[39m(\u001B[33mf\u001B[39m\u001B[33m'\u001B[39m\u001B[33mswat sensor/actuator \u001B[39m\u001B[38;5;132;01m{\u001B[39;00m\u001B[43mcalculate_homophily\u001B[49m\u001B[43m(\u001B[49m\u001B[43mswat_tensor\u001B[49m\u001B[43m,\u001B[49m\u001B[38;5;250;43m \u001B[39;49m\u001B[43mswat_sensors_dict\u001B[49m\u001B[43m,\u001B[49m\u001B[32;43m1\u001B[39;49m\u001B[43m)\u001B[49m\u001B[38;5;132;01m}\u001B[39;00m\u001B[33m'\u001B[39m)\n",
      "\u001B[36mCell\u001B[39m\u001B[36m \u001B[39m\u001B[32mIn[22]\u001B[39m\u001B[32m, line 51\u001B[39m, in \u001B[36mcalculate_homophily\u001B[39m\u001B[34m(adj_tensor, sensor_dictionary, type)\u001B[39m\n\u001B[32m     48\u001B[39m         total_edges += \u001B[32m1\u001B[39m\n\u001B[32m     50\u001B[39m         \u001B[38;5;66;03m# Check if attributes match\u001B[39;00m\n\u001B[32m---> \u001B[39m\u001B[32m51\u001B[39m         \u001B[38;5;28;01mif\u001B[39;00m attr_i == attr_j:\n\u001B[32m     52\u001B[39m             same_attribute_edges += \u001B[32m1\u001B[39m\n\u001B[32m     54\u001B[39m \u001B[38;5;66;03m# Calculate homophily for this graph\u001B[39;00m\n",
      "\u001B[31mKeyboardInterrupt\u001B[39m: "
     ]
    }
   ],
   "execution_count": 22
  },
  {
   "metadata": {
    "ExecuteTime": {
     "end_time": "2025-03-24T12:48:08.243690Z",
     "start_time": "2025-03-24T12:48:08.220669Z"
    }
   },
   "cell_type": "code",
   "source": [
    "print(f'swat sensor/actuator {calculate_homophily(swat_tensor, swat_sensors_dict,1)}')\n",
    "print(f'swat fase {calculate_homophily(swat_tensor, swat_sensors_dict,2)}')\n",
    "print(f'wadi sensor/actuator {calculate_homophily(wadi_tensor, wadi_sensors_dict,1)}')\n",
    "print(f'wadi fase {calculate_homophily(wadi_tensor,wadi_sensors_dict,2)}')\n"
   ],
   "id": "e90e05e81ea0d61f",
   "outputs": [
    {
     "name": "stdout",
     "output_type": "stream",
     "text": [
      "swat sensor/actuator [0.5465686274509803, 0.5110294117647058, 0.5257352941176471, 0.5073529411764706, 0.5318627450980392]\n",
      "swat fase [0.23161764705882354, 0.23651960784313725, 0.24754901960784315, 0.20588235294117646, 0.22426470588235295]\n",
      "wadi sensor/actuator [0.5267970535941072, 0.523241046482093, 0.5189230378460757, 0.5267970535941072, 0.5267970535941072, 0.5090170180340361, 0.5275590551181102, 0.5166370332740665]\n",
      "wadi fase [0.33096266192532386, 0.3543307086614173, 0.30226060452120906, 0.33096266192532386, 0.33096266192532386, 0.3213106426212852, 0.28422656845313693, 0.3243586487172974]\n"
     ]
    }
   ],
   "execution_count": 20
  },
  {
   "metadata": {
    "ExecuteTime": {
     "end_time": "2025-03-24T12:48:08.322910Z",
     "start_time": "2025-03-24T12:48:08.306950Z"
    }
   },
   "cell_type": "code",
   "source": [
    "print(f'swat sensor/actuator {np.mean(calculate_homophily(swat_tensor, swat_sensors_dict,1))}')\n",
    "print(f'swat fase {np.mean(calculate_homophily(swat_tensor, swat_sensors_dict,2))}')\n",
    "print(f'wadi sensor/actuator {np.mean(calculate_homophily(wadi_tensor, wadi_sensors_dict,1))}')\n",
    "print(f'wadi fase {np.mean(calculate_homophily(wadi_tensor,wadi_sensors_dict,2))}')"
   ],
   "id": "1ceeaaf3949e298f",
   "outputs": [
    {
     "name": "stdout",
     "output_type": "stream",
     "text": [
      "swat sensor/actuator 0.5245098039215687\n",
      "swat fase 0.22916666666666669\n",
      "wadi sensor/actuator 0.5219710439420879\n",
      "wadi fase 0.3224218948437897\n"
     ]
    }
   ],
   "execution_count": 21
  },
  {
   "metadata": {
    "ExecuteTime": {
     "end_time": "2025-03-24T12:48:08.353582Z",
     "start_time": "2025-03-24T12:48:08.350158Z"
    }
   },
   "cell_type": "code",
   "source": "",
   "id": "87a3bae74bd815ab",
   "outputs": [],
   "execution_count": null
  },
  {
   "metadata": {
    "ExecuteTime": {
     "end_time": "2025-03-24T12:48:08.402841Z",
     "start_time": "2025-03-24T12:48:08.400005Z"
    }
   },
   "cell_type": "code",
   "source": "",
   "id": "5eb90f3eeab76565",
   "outputs": [],
   "execution_count": null
  }
 ],
 "metadata": {
  "kernelspec": {
   "display_name": "Python 3",
   "language": "python",
   "name": "python3"
  },
  "language_info": {
   "codemirror_mode": {
    "name": "ipython",
    "version": 2
   },
   "file_extension": ".py",
   "mimetype": "text/x-python",
   "name": "python",
   "nbconvert_exporter": "python",
   "pygments_lexer": "ipython2",
   "version": "2.7.6"
  }
 },
 "nbformat": 4,
 "nbformat_minor": 5
}
